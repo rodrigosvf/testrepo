{
 "cells": [
  {
   "cell_type": "code",
   "execution_count": 1,
   "id": "9b8430eb-0a37-4352-947f-da440d5a824d",
   "metadata": {},
   "outputs": [
    {
     "data": {
      "text/plain": [
       "2"
      ]
     },
     "execution_count": 1,
     "metadata": {},
     "output_type": "execute_result"
    }
   ],
   "source": [
    "1+1"
   ]
  },
  {
   "cell_type": "code",
   "execution_count": 2,
   "id": "aa9ba806-c8db-455f-8fc9-473a26d362bf",
   "metadata": {},
   "outputs": [
    {
     "data": {
      "text/plain": [
       "18"
      ]
     },
     "execution_count": 2,
     "metadata": {},
     "output_type": "execute_result"
    }
   ],
   "source": [
    "2+20-2*2"
   ]
  },
  {
   "cell_type": "markdown",
   "id": "76b5e5d3-cc5e-4e93-b8cc-f7687d356f0b",
   "metadata": {
    "tags": []
   },
   "source": [
    "My title"
   ]
  },
  {
   "cell_type": "markdown",
   "id": "7f079e14-1529-4833-8966-02bfe101dee0",
   "metadata": {},
   "source": [
    "dasdasd"
   ]
  },
  {
   "cell_type": "code",
   "execution_count": null,
   "id": "a632995b-6309-4fa4-a3bd-1601c49daf6f",
   "metadata": {},
   "outputs": [],
   "source": []
  },
  {
   "cell_type": "code",
   "execution_count": null,
   "id": "07beae3b-f6e0-4cc1-936a-755686cc17dc",
   "metadata": {},
   "outputs": [],
   "source": [
    "s"
   ]
  },
  {
   "cell_type": "code",
   "execution_count": null,
   "id": "ba2d657e-2706-458f-bbfe-382ced2fa7be",
   "metadata": {},
   "outputs": [],
   "source": []
  },
  {
   "cell_type": "code",
   "execution_count": null,
   "id": "2957639a-4cf4-477f-85b4-e68d1ddf20d4",
   "metadata": {},
   "outputs": [],
   "source": []
  }
 ],
 "metadata": {
  "kernelspec": {
   "display_name": "Python",
   "language": "python",
   "name": "conda-env-python-py"
  },
  "language_info": {
   "codemirror_mode": {
    "name": "ipython",
    "version": 3
   },
   "file_extension": ".py",
   "mimetype": "text/x-python",
   "name": "python",
   "nbconvert_exporter": "python",
   "pygments_lexer": "ipython3",
   "version": "3.7.12"
  }
 },
 "nbformat": 4,
 "nbformat_minor": 5
}
